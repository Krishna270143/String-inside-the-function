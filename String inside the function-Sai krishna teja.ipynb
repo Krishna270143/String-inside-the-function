{
 "cells": [
  {
   "cell_type": "code",
   "execution_count": 13,
   "id": "d9252634",
   "metadata": {},
   "outputs": [
    {
     "name": "stdout",
     "output_type": "stream",
     "text": [
      "1234abcd\n",
      "dcba4321\n"
     ]
    }
   ],
   "source": [
    "def string_reverse(str1):                 # defining the function\n",
    "\n",
    "    rstr1 = ''                           \n",
    "    index = len(str1)                # count the index value\n",
    "    while index > 0:\n",
    "        rstr1 += str1[ index - 1 ]\n",
    "        index = index - 1\n",
    "    return rstr1               \n",
    "str = '1234abcd'            #input\n",
    "print(str)\n",
    "print(string_reverse(str))"
   ]
  },
  {
   "cell_type": "code",
   "execution_count": null,
   "id": "79ee089a",
   "metadata": {},
   "outputs": [],
   "source": [
    "Test cases:"
   ]
  },
  {
   "cell_type": "code",
   "execution_count": 14,
   "id": "008fd521",
   "metadata": {},
   "outputs": [
    {
     "name": "stdout",
     "output_type": "stream",
     "text": [
      "krishna\n",
      "anhsirk\n"
     ]
    }
   ],
   "source": [
    "def string_reverse(str1):\n",
    "\n",
    "    rstr1 = ''\n",
    "    index = len(str1)\n",
    "    while index > 0:\n",
    "        rstr1 += str1[ index - 1 ]\n",
    "        index = index - 1\n",
    "    return rstr1\n",
    "str = 'krishna'\n",
    "print(str)\n",
    "print(string_reverse(str))"
   ]
  },
  {
   "cell_type": "code",
   "execution_count": 16,
   "id": "3d67e2f3",
   "metadata": {},
   "outputs": [
    {
     "name": "stdout",
     "output_type": "stream",
     "text": [
      "krishnateja@270143\n",
      "341072@ajetanhsirk\n"
     ]
    }
   ],
   "source": [
    "def string_reverse(str1):\n",
    "\n",
    "    rstr1 = ''\n",
    "    index = len(str1)\n",
    "    while index > 0:\n",
    "        rstr1 += str1[ index - 1 ]\n",
    "        index = index - 1\n",
    "    return rstr1\n",
    "str = 'krishnateja@270143'\n",
    "print(str)\n",
    "print(string_reverse(str))"
   ]
  },
  {
   "cell_type": "markdown",
   "id": "1b97bff9",
   "metadata": {},
   "source": [
    "Another way:"
   ]
  },
  {
   "cell_type": "code",
   "execution_count": 18,
   "id": "2029ecfc",
   "metadata": {},
   "outputs": [
    {
     "name": "stdout",
     "output_type": "stream",
     "text": [
      "Original string: 1234abcd\n",
      "Reverse strig: dcba4321\n",
      "\n",
      "Original string: pawan\n",
      "Reverse strig: nawap\n"
     ]
    }
   ],
   "source": [
    "\n",
    "def reverse(itr):\n",
    "  return itr[::-1]\n",
    "\n",
    "str1 = '1234abcd'\n",
    "print(\"Original string:\",str1)\n",
    "print(\"Reverse strig:\",reverse('1234abcd'))\n",
    "str1 = 'pawan'\n",
    "print(\"\\nOriginal string:\",str1)\n",
    "print(\"Reverse strig:\",reverse(str1))"
   ]
  },
  {
   "cell_type": "code",
   "execution_count": null,
   "id": "0a4f544f",
   "metadata": {},
   "outputs": [],
   "source": []
  },
  {
   "cell_type": "code",
   "execution_count": null,
   "id": "86bd32a0",
   "metadata": {},
   "outputs": [],
   "source": []
  }
 ],
 "metadata": {
  "kernelspec": {
   "display_name": "Python 3 (ipykernel)",
   "language": "python",
   "name": "python3"
  },
  "language_info": {
   "codemirror_mode": {
    "name": "ipython",
    "version": 3
   },
   "file_extension": ".py",
   "mimetype": "text/x-python",
   "name": "python",
   "nbconvert_exporter": "python",
   "pygments_lexer": "ipython3",
   "version": "3.10.0"
  }
 },
 "nbformat": 4,
 "nbformat_minor": 5
}
